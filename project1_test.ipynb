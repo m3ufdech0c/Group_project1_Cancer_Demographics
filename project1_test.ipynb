{
 "cells": [],
 "metadata": {
  "kernelspec": {
   "display_name": "best_day_ever",
   "language": "python",
   "name": "python3"
  },
  "language_info": {
   "codemirror_mode": {
    "name": "ipython",
    "version": 3
   },
   "file_extension": ".py",
   "mimetype": "text/x-python",
   "name": "python",
   "nbconvert_exporter": "python",
   "pygments_lexer": "ipython3",
   "version": "3.10.9"
  },
  "orig_nbformat": 4,
  "vscode": {
   "interpreter": {
    "hash": "0846a8d89d955489829ac4af9cbbfa9f38ad00db82ec086fb7c814de67fe6aac"
   }
  }
 },
 "nbformat": 4,
 "nbformat_minor": 2
}
