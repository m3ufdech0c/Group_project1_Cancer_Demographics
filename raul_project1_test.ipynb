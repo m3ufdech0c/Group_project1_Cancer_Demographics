{
 "cells": [
  {
   "cell_type": "code",
   "execution_count": 1,
   "metadata": {},
   "outputs": [],
   "source": [
    "#dependencies\n",
    "import pandas as pd\n",
    "import numpy as np\n",
    "import matplotlib.pyplot as plt"
   ]
  },
  {
   "cell_type": "code",
   "execution_count": 2,
   "metadata": {},
   "outputs": [
    {
     "data": {
      "text/html": [
       "<div>\n",
       "<style scoped>\n",
       "    .dataframe tbody tr th:only-of-type {\n",
       "        vertical-align: middle;\n",
       "    }\n",
       "\n",
       "    .dataframe tbody tr th {\n",
       "        vertical-align: top;\n",
       "    }\n",
       "\n",
       "    .dataframe thead th {\n",
       "        text-align: right;\n",
       "    }\n",
       "</style>\n",
       "<table border=\"1\" class=\"dataframe\">\n",
       "  <thead>\n",
       "    <tr style=\"text-align: right;\">\n",
       "      <th></th>\n",
       "      <th>Notes</th>\n",
       "      <th>State</th>\n",
       "      <th>State Code</th>\n",
       "      <th>Year</th>\n",
       "      <th>Year Code</th>\n",
       "      <th>Cause of death</th>\n",
       "      <th>Cause of death Code</th>\n",
       "      <th>Race</th>\n",
       "      <th>Race Code</th>\n",
       "      <th>Deaths</th>\n",
       "      <th>Population</th>\n",
       "      <th>Crude Rate</th>\n",
       "    </tr>\n",
       "  </thead>\n",
       "  <tbody>\n",
       "    <tr>\n",
       "      <th>0</th>\n",
       "      <td>NaN</td>\n",
       "      <td>Alabama</td>\n",
       "      <td>1.0</td>\n",
       "      <td>2019.0</td>\n",
       "      <td>2019.0</td>\n",
       "      <td>Tongue, unspecified - Malignant neoplasms</td>\n",
       "      <td>C02.9</td>\n",
       "      <td>White</td>\n",
       "      <td>2106-3</td>\n",
       "      <td>34.0</td>\n",
       "      <td>3437480.0</td>\n",
       "      <td>1</td>\n",
       "    </tr>\n",
       "    <tr>\n",
       "      <th>1</th>\n",
       "      <td>NaN</td>\n",
       "      <td>Alabama</td>\n",
       "      <td>1.0</td>\n",
       "      <td>2019.0</td>\n",
       "      <td>2019.0</td>\n",
       "      <td>Mouth, unspecified - Malignant neoplasms</td>\n",
       "      <td>C06.9</td>\n",
       "      <td>White</td>\n",
       "      <td>2106-3</td>\n",
       "      <td>26.0</td>\n",
       "      <td>3437480.0</td>\n",
       "      <td>0.8</td>\n",
       "    </tr>\n",
       "    <tr>\n",
       "      <th>2</th>\n",
       "      <td>NaN</td>\n",
       "      <td>Alabama</td>\n",
       "      <td>1.0</td>\n",
       "      <td>2019.0</td>\n",
       "      <td>2019.0</td>\n",
       "      <td>Tonsil, unspecified - Malignant neoplasms</td>\n",
       "      <td>C09.9</td>\n",
       "      <td>White</td>\n",
       "      <td>2106-3</td>\n",
       "      <td>12.0</td>\n",
       "      <td>3437480.0</td>\n",
       "      <td>Unreliable</td>\n",
       "    </tr>\n",
       "    <tr>\n",
       "      <th>3</th>\n",
       "      <td>NaN</td>\n",
       "      <td>Alabama</td>\n",
       "      <td>1.0</td>\n",
       "      <td>2019.0</td>\n",
       "      <td>2019.0</td>\n",
       "      <td>Oropharynx, unspecified - Malignant neoplasms</td>\n",
       "      <td>C10.9</td>\n",
       "      <td>White</td>\n",
       "      <td>2106-3</td>\n",
       "      <td>14.0</td>\n",
       "      <td>3437480.0</td>\n",
       "      <td>Unreliable</td>\n",
       "    </tr>\n",
       "    <tr>\n",
       "      <th>4</th>\n",
       "      <td>NaN</td>\n",
       "      <td>Alabama</td>\n",
       "      <td>1.0</td>\n",
       "      <td>2019.0</td>\n",
       "      <td>2019.0</td>\n",
       "      <td>Pharynx, unspecified - Malignant neoplasms</td>\n",
       "      <td>C14.0</td>\n",
       "      <td>Black or African American</td>\n",
       "      <td>2054-5</td>\n",
       "      <td>18.0</td>\n",
       "      <td>1342306.0</td>\n",
       "      <td>Unreliable</td>\n",
       "    </tr>\n",
       "  </tbody>\n",
       "</table>\n",
       "</div>"
      ],
      "text/plain": [
       "  Notes    State  State Code    Year  Year Code  \\\n",
       "0   NaN  Alabama         1.0  2019.0     2019.0   \n",
       "1   NaN  Alabama         1.0  2019.0     2019.0   \n",
       "2   NaN  Alabama         1.0  2019.0     2019.0   \n",
       "3   NaN  Alabama         1.0  2019.0     2019.0   \n",
       "4   NaN  Alabama         1.0  2019.0     2019.0   \n",
       "\n",
       "                                  Cause of death Cause of death Code  \\\n",
       "0      Tongue, unspecified - Malignant neoplasms               C02.9   \n",
       "1       Mouth, unspecified - Malignant neoplasms               C06.9   \n",
       "2      Tonsil, unspecified - Malignant neoplasms               C09.9   \n",
       "3  Oropharynx, unspecified - Malignant neoplasms               C10.9   \n",
       "4     Pharynx, unspecified - Malignant neoplasms               C14.0   \n",
       "\n",
       "                        Race Race Code  Deaths  Population  Crude Rate  \n",
       "0                      White    2106-3    34.0   3437480.0           1  \n",
       "1                      White    2106-3    26.0   3437480.0         0.8  \n",
       "2                      White    2106-3    12.0   3437480.0  Unreliable  \n",
       "3                      White    2106-3    14.0   3437480.0  Unreliable  \n",
       "4  Black or African American    2054-5    18.0   1342306.0  Unreliable  "
      ]
     },
     "execution_count": 2,
     "metadata": {},
     "output_type": "execute_result"
    }
   ],
   "source": [
    "cancer_race = \"/Users/raulfnf/Desktop/project-1/Resources/Underlying cause of Death 2019 to 2020 by Race.csv\"\n",
    "\n",
    "cancer_race_df = pd.read_csv(cancer_race)\n",
    "cancer_race_df.head()"
   ]
  },
  {
   "cell_type": "code",
   "execution_count": 3,
   "metadata": {},
   "outputs": [
    {
     "data": {
      "text/plain": [
       "Index(['Notes', 'State', 'State Code', 'Year', 'Year Code', 'Cause of death',\n",
       "       'Cause of death Code', 'Race', 'Race Code', 'Deaths', 'Population',\n",
       "       'Crude Rate'],\n",
       "      dtype='object')"
      ]
     },
     "execution_count": 3,
     "metadata": {},
     "output_type": "execute_result"
    }
   ],
   "source": [
    "cancer_race_df.columns"
   ]
  },
  {
   "cell_type": "code",
   "execution_count": 4,
   "metadata": {},
   "outputs": [
    {
     "data": {
      "text/html": [
       "<div>\n",
       "<style scoped>\n",
       "    .dataframe tbody tr th:only-of-type {\n",
       "        vertical-align: middle;\n",
       "    }\n",
       "\n",
       "    .dataframe tbody tr th {\n",
       "        vertical-align: top;\n",
       "    }\n",
       "\n",
       "    .dataframe thead th {\n",
       "        text-align: right;\n",
       "    }\n",
       "</style>\n",
       "<table border=\"1\" class=\"dataframe\">\n",
       "  <thead>\n",
       "    <tr style=\"text-align: right;\">\n",
       "      <th></th>\n",
       "      <th>Year</th>\n",
       "      <th>Cause of death</th>\n",
       "      <th>Race</th>\n",
       "      <th>Deaths</th>\n",
       "    </tr>\n",
       "  </thead>\n",
       "  <tbody>\n",
       "    <tr>\n",
       "      <th>101</th>\n",
       "      <td>2020.0</td>\n",
       "      <td>Tongue, unspecified - Malignant neoplasms</td>\n",
       "      <td>White</td>\n",
       "      <td>25.0</td>\n",
       "    </tr>\n",
       "    <tr>\n",
       "      <th>102</th>\n",
       "      <td>2020.0</td>\n",
       "      <td>Mouth, unspecified - Malignant neoplasms</td>\n",
       "      <td>White</td>\n",
       "      <td>31.0</td>\n",
       "    </tr>\n",
       "    <tr>\n",
       "      <th>103</th>\n",
       "      <td>2020.0</td>\n",
       "      <td>Malignant neoplasm of parotid gland</td>\n",
       "      <td>White</td>\n",
       "      <td>10.0</td>\n",
       "    </tr>\n",
       "    <tr>\n",
       "      <th>104</th>\n",
       "      <td>2020.0</td>\n",
       "      <td>Oropharynx, unspecified - Malignant neoplasms</td>\n",
       "      <td>White</td>\n",
       "      <td>16.0</td>\n",
       "    </tr>\n",
       "    <tr>\n",
       "      <th>105</th>\n",
       "      <td>2020.0</td>\n",
       "      <td>Pharynx, unspecified - Malignant neoplasms</td>\n",
       "      <td>Black or African American</td>\n",
       "      <td>15.0</td>\n",
       "    </tr>\n",
       "  </tbody>\n",
       "</table>\n",
       "</div>"
      ],
      "text/plain": [
       "       Year                                 Cause of death  \\\n",
       "101  2020.0      Tongue, unspecified - Malignant neoplasms   \n",
       "102  2020.0       Mouth, unspecified - Malignant neoplasms   \n",
       "103  2020.0            Malignant neoplasm of parotid gland   \n",
       "104  2020.0  Oropharynx, unspecified - Malignant neoplasms   \n",
       "105  2020.0     Pharynx, unspecified - Malignant neoplasms   \n",
       "\n",
       "                          Race  Deaths  \n",
       "101                      White    25.0  \n",
       "102                      White    31.0  \n",
       "103                      White    10.0  \n",
       "104                      White    16.0  \n",
       "105  Black or African American    15.0  "
      ]
     },
     "execution_count": 4,
     "metadata": {},
     "output_type": "execute_result"
    }
   ],
   "source": [
    "clean_cancer_race = cancer_race_df.drop(['Notes', 'State', 'State Code', 'Year Code',\n",
    "       'Cause of death Code','Race Code', 'Population','Crude Rate'], axis = 1)\n",
    "for x in clean_cancer_race.index:\n",
    "  if clean_cancer_race.loc[x, \"Year\"] < 2020.0:\n",
    "    clean_cancer_race.drop(x, inplace = True)\n",
    "clean_cancer_race.head()"
   ]
  },
  {
   "cell_type": "code",
   "execution_count": 5,
   "metadata": {},
   "outputs": [
    {
     "data": {
      "text/html": [
       "<div>\n",
       "<style scoped>\n",
       "    .dataframe tbody tr th:only-of-type {\n",
       "        vertical-align: middle;\n",
       "    }\n",
       "\n",
       "    .dataframe tbody tr th {\n",
       "        vertical-align: top;\n",
       "    }\n",
       "\n",
       "    .dataframe thead th {\n",
       "        text-align: right;\n",
       "    }\n",
       "</style>\n",
       "<table border=\"1\" class=\"dataframe\">\n",
       "  <thead>\n",
       "    <tr style=\"text-align: right;\">\n",
       "      <th></th>\n",
       "      <th>Year</th>\n",
       "      <th>Cause of death</th>\n",
       "      <th>Race</th>\n",
       "      <th>Deaths</th>\n",
       "    </tr>\n",
       "  </thead>\n",
       "  <tbody>\n",
       "    <tr>\n",
       "      <th>101</th>\n",
       "      <td>2020.0</td>\n",
       "      <td>Tongue, unspecified - Malignant neoplasms</td>\n",
       "      <td>White</td>\n",
       "      <td>25.0</td>\n",
       "    </tr>\n",
       "    <tr>\n",
       "      <th>102</th>\n",
       "      <td>2020.0</td>\n",
       "      <td>Mouth, unspecified - Malignant neoplasms</td>\n",
       "      <td>White</td>\n",
       "      <td>31.0</td>\n",
       "    </tr>\n",
       "    <tr>\n",
       "      <th>103</th>\n",
       "      <td>2020.0</td>\n",
       "      <td>Malignant neoplasm of parotid gland</td>\n",
       "      <td>White</td>\n",
       "      <td>10.0</td>\n",
       "    </tr>\n",
       "    <tr>\n",
       "      <th>104</th>\n",
       "      <td>2020.0</td>\n",
       "      <td>Oropharynx, unspecified - Malignant neoplasms</td>\n",
       "      <td>White</td>\n",
       "      <td>16.0</td>\n",
       "    </tr>\n",
       "    <tr>\n",
       "      <th>105</th>\n",
       "      <td>2020.0</td>\n",
       "      <td>Pharynx, unspecified - Malignant neoplasms</td>\n",
       "      <td>Black or African American</td>\n",
       "      <td>15.0</td>\n",
       "    </tr>\n",
       "  </tbody>\n",
       "</table>\n",
       "</div>"
      ],
      "text/plain": [
       "       Year                                 Cause of death  \\\n",
       "101  2020.0      Tongue, unspecified - Malignant neoplasms   \n",
       "102  2020.0       Mouth, unspecified - Malignant neoplasms   \n",
       "103  2020.0            Malignant neoplasm of parotid gland   \n",
       "104  2020.0  Oropharynx, unspecified - Malignant neoplasms   \n",
       "105  2020.0     Pharynx, unspecified - Malignant neoplasms   \n",
       "\n",
       "                          Race  Deaths  \n",
       "101                      White    25.0  \n",
       "102                      White    31.0  \n",
       "103                      White    10.0  \n",
       "104                      White    16.0  \n",
       "105  Black or African American    15.0  "
      ]
     },
     "execution_count": 5,
     "metadata": {},
     "output_type": "execute_result"
    }
   ],
   "source": [
    "clean_cancer_race.to_csv(\"/Users/raulfnf/Desktop/project-1/Resources/Complete cancer race data.csv\")\n",
    "clean_cancer_race.head()"
   ]
  },
  {
   "cell_type": "code",
   "execution_count": 6,
   "metadata": {},
   "outputs": [
    {
     "data": {
      "text/plain": [
       "White                               3458\n",
       "Black or African American            907\n",
       "Asian or Pacific Islander            336\n",
       "American Indian or Alaska Native      78\n",
       "Name: Race, dtype: int64"
      ]
     },
     "execution_count": 6,
     "metadata": {},
     "output_type": "execute_result"
    }
   ],
   "source": [
    "cancer_race_uniques = clean_cancer_race.Race.value_counts() \n",
    "cancer_race_uniques\n"
   ]
  },
  {
   "cell_type": "code",
   "execution_count": 7,
   "metadata": {},
   "outputs": [
    {
     "data": {
      "text/plain": [
       "Race\n",
       "American Indian or Alaska Native      1706.0\n",
       "Asian or Pacific Islander            16122.0\n",
       "Black or African American            64391.0\n",
       "White                               498931.0\n",
       "Name: Deaths, dtype: float64"
      ]
     },
     "execution_count": 7,
     "metadata": {},
     "output_type": "execute_result"
    }
   ],
   "source": [
    "cancer_death_byrace = clean_cancer_race.groupby([\"Race\"]).sum()[\"Deaths\"]\n",
    "cancer_death_byrace"
   ]
  },
  {
   "cell_type": "code",
   "execution_count": 8,
   "metadata": {},
   "outputs": [
    {
     "data": {
      "text/html": [
       "<div>\n",
       "<style scoped>\n",
       "    .dataframe tbody tr th:only-of-type {\n",
       "        vertical-align: middle;\n",
       "    }\n",
       "\n",
       "    .dataframe tbody tr th {\n",
       "        vertical-align: top;\n",
       "    }\n",
       "\n",
       "    .dataframe thead th {\n",
       "        text-align: right;\n",
       "    }\n",
       "</style>\n",
       "<table border=\"1\" class=\"dataframe\">\n",
       "  <thead>\n",
       "    <tr style=\"text-align: right;\">\n",
       "      <th></th>\n",
       "      <th>Deaths</th>\n",
       "    </tr>\n",
       "    <tr>\n",
       "      <th>Race</th>\n",
       "      <th></th>\n",
       "    </tr>\n",
       "  </thead>\n",
       "  <tbody>\n",
       "    <tr>\n",
       "      <th>American Indian or Alaska Native</th>\n",
       "      <td>1706.0</td>\n",
       "    </tr>\n",
       "    <tr>\n",
       "      <th>Asian or Pacific Islander</th>\n",
       "      <td>16122.0</td>\n",
       "    </tr>\n",
       "    <tr>\n",
       "      <th>Black or African American</th>\n",
       "      <td>64391.0</td>\n",
       "    </tr>\n",
       "    <tr>\n",
       "      <th>White</th>\n",
       "      <td>498931.0</td>\n",
       "    </tr>\n",
       "  </tbody>\n",
       "</table>\n",
       "</div>"
      ],
      "text/plain": [
       "                                    Deaths\n",
       "Race                                      \n",
       "American Indian or Alaska Native    1706.0\n",
       "Asian or Pacific Islander          16122.0\n",
       "Black or African American          64391.0\n",
       "White                             498931.0"
      ]
     },
     "execution_count": 8,
     "metadata": {},
     "output_type": "execute_result"
    }
   ],
   "source": [
    "#race bins\n",
    "race_counts = pd.DataFrame(cancer_death_byrace)\n",
    "race_counts"
   ]
  },
  {
   "cell_type": "code",
   "execution_count": 16,
   "metadata": {},
   "outputs": [
    {
     "data": {
      "image/png": "[encoded data removed]",
      "text/plain": [
       "<Figure size 640x480 with 1 Axes>"
      ]
     },
     "metadata": {},
     "output_type": "display_data"
    }
   ],
   "source": [
    "data = {\"Race\" : [f\"American Indian or Alaska Native (1706)\",\n",
    "\"Asian or Pacific Islander (16,122)\",\n",
    "\"Black or African American (64,391)\", \"White (498,931)\"], \"Deaths\" : [1706.0, 16122.0, 64391.0, 498931.0]}\n",
    "df = pd.DataFrame(data)\n",
    "fig2 = df.plot(x='Race', y=\"Deaths\", kind=\"bar\", legend=False)\n",
    "colors = ['green','blue','purple','brown']\n",
    "plt.title('Death By Race', fontsize=14)\n",
    "plt.xlabel('Race', fontsize=14)\n",
    "plt.ylabel('Deaths', fontsize=14)\n",
    "plt.grid(True)\n",
    "plt.show()\n",
    "fig2.figure.savefig(\"raul output data/Death_Cancer_Race\")"
   ]
  }
 ],
 "metadata": {
  "kernelspec": {
   "display_name": "base",
   "language": "python",
   "name": "python3"
  },
  "language_info": {
   "codemirror_mode": {
    "name": "ipython",
    "version": 3
   },
   "file_extension": ".py",
   "mimetype": "text/x-python",
   "name": "python",
   "nbconvert_exporter": "python",
   "pygments_lexer": "ipython3",
   "version": "3.9.13"
  },
  "orig_nbformat": 4,
  "vscode": {
   "interpreter": {
    "hash": "73efcd87c2cb03a18e97788bda74e74d4a5baf8f9350cd058e8a15ff22d0b01d"
   }
  }
 },
 "nbformat": 4,
 "nbformat_minor": 2
}
